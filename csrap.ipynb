{
 "cells": [
  {
   "cell_type": "markdown",
   "id": "0bf07cc4",
   "metadata": {},
   "source": [
    "# Code  pour chercher et télécharger les PDF"
   ]
  },
  {
   "cell_type": "code",
   "execution_count": null,
   "id": "2f438c54",
   "metadata": {},
   "outputs": [],
   "source": [
    "#Installez la bibliothèque"
   ]
  },
  {
   "cell_type": "markdown",
   "id": "6644e317",
   "metadata": {},
   "source": [
    "# Beautiful Soup 4 - Bibliothèque Python pour le Parsing et le Scraping\n",
    "\n",
    "**Beautiful Soup 4** est une bibliothèque Python populaire utilisée pour le **parsing** et le **scraping** de documents HTML et XML. Elle permet d'extraire facilement des données d'une page web et de naviguer dans la structure des balises HTML de manière intuitive.\n",
    "\n",
    "## Caractéristiques principales de Beautiful Soup 4 :\n",
    "\n",
    "### 1. **Parsing HTML/XML :**\n",
    "- Convertit des documents HTML ou XML en un arbre de structure que vous pouvez manipuler facilement.\n",
    "- Gère même des pages mal formées (HTML incorrect ou cassé).\n",
    "\n",
    "### 2. **Navigation facile :**\n",
    "- Permet de rechercher, modifier et extraire des informations de balises spécifiques en utilisant des méthodes conviviales.\n",
    "- Exemples : rechercher une balise spécifique, extraire du texte, ou accéder aux attributs d'une balise (comme `href` ou `src`).\n",
    "\n",
    "### 3. **Compatibilité avec plusieurs parsers :**\n",
    "- Utilise par défaut le parser intégré de Python (`html.parser`).\n",
    "- Peut aussi fonctionner avec d'autres parsers comme `lxml` ou `html5lib` pour des performances ou des fonctionnalités spécifiques.\n",
    "\n",
    "### 4. **Gestion des documents volumineux :**\n",
    "- Optimisée pour fonctionner avec des documents volumineux et complexes.\n"
   ]
  },
  {
   "cell_type": "code",
   "execution_count": 1,
   "id": "f34327ab",
   "metadata": {
    "scrolled": true
   },
   "outputs": [
    {
     "name": "stdout",
     "output_type": "stream",
     "text": [
      "Requirement already satisfied: beautifulsoup4 in c:\\users\\hp\\anaconda3\\lib\\site-packages (4.12.2)Note: you may need to restart the kernel to use updated packages.\n",
      "\n",
      "Requirement already satisfied: soupsieve>1.2 in c:\\users\\hp\\anaconda3\\lib\\site-packages (from beautifulsoup4) (2.4)\n"
     ]
    }
   ],
   "source": [
    "pip install beautifulsoup4\n"
   ]
  },
  {
   "cell_type": "markdown",
   "id": "97432050",
   "metadata": {},
   "source": [
    " # Exploiter plusieurs pages de résultats"
   ]
  },
  {
   "cell_type": "code",
   "execution_count": 2,
   "id": "44a266a9",
   "metadata": {},
   "outputs": [
    {
     "name": "stdout",
     "output_type": "stream",
     "text": [
      "Lien PDF trouvé : /search?q=SQL+tutorial+filetype:pdf&sca_esv=4f9cd8e0fdf28683&gbv=1&sei=ZMw9Z4-3LN2rwbkPx_H22Qs\n",
      "Lien PDF trouvé : https://accounts.google.com/ServiceLogin?hl=fr&passive=true&continue=https://www.google.com/search%3Fq%3DSQL%2Btutorial%2Bfiletype:pdf&ec=GAZAAQ\n",
      "Lien PDF trouvé : /search?sca_esv=4f9cd8e0fdf28683&q=SQL+tutorial+filetype:pdf&udm=7&fbs=AEQNm0CbCVgAZ5mWEJDg6aoPVcBgjESotLRNhF4rcMUS8g-cctLe7ANvTTim5zj7R9O1FDteB0Ndimd-nGNoJTDMkjaC8jOpOEt8YUgMAbn09FxUqfXAO0wK-9ve-GQhxAi6Phi7BamdyWD3uSQQYDq5yIaa2cdnF6Jm--RCOakLUT4K6zoDnNsioMsEsSKN_PSXhTLzXvDb&sa=X&ved=2ahUKEwiP-a_A6-qJAxXdVTABHce4PbsQtKgLegQIKRAB\n",
      "Lien PDF trouvé : /search?sca_esv=4f9cd8e0fdf28683&q=SQL+tutorial+filetype:pdf&udm=2&fbs=AEQNm0CbCVgAZ5mWEJDg6aoPVcBgjESotLRNhF4rcMUS8g-cctLe7ANvTTim5zj7R9O1FDteB0Ndimd-nGNoJTDMkjaC8jOpOEt8YUgMAbn09FxUqfXAO0wK-9ve-GQhxAi6Phi7BamdyWD3uSQQYDq5yIaa2cdnF6Jm--RCOakLUT4K6zoDnNsioMsEsSKN_PSXhTLzXvDb&sa=X&ved=2ahUKEwiP-a_A6-qJAxXdVTABHce4PbsQtKgLegQIJRAB\n",
      "Lien PDF trouvé : /search?sca_esv=4f9cd8e0fdf28683&q=SQL+tutorial+filetype:pdf&tbm=nws&source=lnms&fbs=AEQNm0CbCVgAZ5mWEJDg6aoPVcBgjESotLRNhF4rcMUS8g-cctLe7ANvTTim5zj7R9O1FDteB0Ndimd-nGNoJTDMkjaC8jOpOEt8YUgMAbn09FxUqfXAO0wK-9ve-GQhxAi6Phi7BamdyWD3uSQQYDq5yIaa2cdnF6Jm--RCOakLUT4K6zoDnNsioMsEsSKN_PSXhTLzXvDb&sa=X&ved=2ahUKEwiP-a_A6-qJAxXdVTABHce4PbsQ0pQJegQILxAB\n",
      "Lien PDF trouvé : /search?sca_esv=4f9cd8e0fdf28683&q=SQL+tutorial+filetype:pdf&udm=14&fbs=AEQNm0CbCVgAZ5mWEJDg6aoPVcBgjESotLRNhF4rcMUS8g-cctLe7ANvTTim5zj7R9O1FDteB0Ndimd-nGNoJTDMkjaC8jOpOEt8YUgMAbn09FxUqfXAO0wK-9ve-GQhxAi6Phi7BamdyWD3uSQQYDq5yIaa2cdnF6Jm--RCOakLUT4K6zoDnNsioMsEsSKN_PSXhTLzXvDb&sa=X&ved=2ahUKEwiP-a_A6-qJAxXdVTABHce4PbsQs6gLegQIKBAB\n",
      "Lien PDF trouvé : /search?sca_esv=4f9cd8e0fdf28683&q=SQL+tutorial+filetype:pdf&udm=36&source=lnms&fbs=AEQNm0CbCVgAZ5mWEJDg6aoPVcBgjESotLRNhF4rcMUS8g-cctLe7ANvTTim5zj7R9O1FDteB0Ndimd-nGNoJTDMkjaC8jOpOEt8YUgMAbn09FxUqfXAO0wK-9ve-GQhxAi6Phi7BamdyWD3uSQQYDq5yIaa2cdnF6Jm--RCOakLUT4K6zoDnNsioMsEsSKN_PSXhTLzXvDb&sa=X&ved=2ahUKEwiP-a_A6-qJAxXdVTABHce4PbsQ0pQJegQIJxAB\n",
      "Lien PDF trouvé : https://maps.google.com/maps?sca_esv=4f9cd8e0fdf28683&output=search&q=SQL+tutorial+filetype:pdf&source=lnms&fbs=AEQNm0CbCVgAZ5mWEJDg6aoPVcBgjESotLRNhF4rcMUS8g-cctLe7ANvTTim5zj7R9O1FDteB0Ndimd-nGNoJTDMkjaC8jOpOEt8YUgMAbn09FxUqfXAO0wK-9ve-GQhxAi6Phi7BamdyWD3uSQQYDq5yIaa2cdnF6Jm--RCOakLUT4K6zoDnNsioMsEsSKN_PSXhTLzXvDb&entry=mc&ved=1t:200715&ictx=111\n",
      "Lien PDF trouvé : https://www.hcoe.edu.np/uploads/attachments/r96oytechsacgzi4.pdf\n",
      "Lien PDF trouvé : https://sql.sh/ressources/cours-sql-sh-.pdf\n",
      "Lien PDF trouvé : https://www.i3s.unice.fr/~edemaria/cours/c4.pdf\n",
      "Lien PDF trouvé : https://cdncontribute.geeksforgeeks.org/wp-content/uploads/SQL-Manual.pdf\n",
      "Lien PDF trouvé : http://www.salihayacoub.com/420Kba/TransacSql.pdf\n",
      "Lien PDF trouvé : https://people.inf.elte.hu/kiss/DB/sqltutorial.pdf\n",
      "Lien PDF trouvé : https://www-npa.lip6.fr/~blin/Enseignement_files/SGBD/Tuto0racle-L3.pdf\n",
      "Lien PDF trouvé : https://www.tutorialspoint.com/sql/sql_tutorial.pdf\n",
      "Lien PDF trouvé : https://faculty.cc.gatech.edu/~jarulraj/courses/4420-f21/slides/03-advanced-sql.pdf\n",
      "Lien PDF trouvé : https://wkhemiri.kau.edu.sa/Files/0053518/Subjects/5324_tutorial.pdf\n",
      "Lien PDF trouvé : /search?sca_esv=4f9cd8e0fdf28683&q=MySQL+Tutorial+pdf&sa=X&ved=2ahUKEwiP-a_A6-qJAxXdVTABHce4PbsQ1QJ6BAg6EAE\n",
      "Lien PDF trouvé : /search?q=SQL+tutorial+filetype:pdf&sca_esv=4f9cd8e0fdf28683&ei=ZMw9Z4-3LN2rwbkPx_H22Qs&start=10&sa=N&sstk=ATObxK5VQD4Zm-u78FO--VUrrsQ4Eai0Jdv2mEucgAxJ83Udgd1kYrpN8u4dxLfrqTwmia09AlGkHSb-T4cC7AuJTRp56KfvgnwHWw&ved=2ahUKEwiP-a_A6-qJAxXdVTABHce4PbsQ8tMDegQICxAE\n",
      "Lien PDF trouvé : /search?q=SQL+tutorial+filetype:pdf&sca_esv=4f9cd8e0fdf28683&ei=ZMw9Z4-3LN2rwbkPx_H22Qs&start=20&sa=N&sstk=ATObxK5VQD4Zm-u78FO--VUrrsQ4Eai0Jdv2mEucgAxJ83Udgd1kYrpN8u4dxLfrqTwmia09AlGkHSb-T4cC7AuJTRp56KfvgnwHWw&ved=2ahUKEwiP-a_A6-qJAxXdVTABHce4PbsQ8tMDegQICxAG\n",
      "Lien PDF trouvé : /search?q=SQL+tutorial+filetype:pdf&sca_esv=4f9cd8e0fdf28683&ei=ZMw9Z4-3LN2rwbkPx_H22Qs&start=30&sa=N&sstk=ATObxK5VQD4Zm-u78FO--VUrrsQ4Eai0Jdv2mEucgAxJ83Udgd1kYrpN8u4dxLfrqTwmia09AlGkHSb-T4cC7AuJTRp56KfvgnwHWw&ved=2ahUKEwiP-a_A6-qJAxXdVTABHce4PbsQ8tMDegQICxAI\n",
      "Lien PDF trouvé : /search?q=SQL+tutorial+filetype:pdf&sca_esv=4f9cd8e0fdf28683&ei=ZMw9Z4-3LN2rwbkPx_H22Qs&start=40&sa=N&sstk=ATObxK5VQD4Zm-u78FO--VUrrsQ4Eai0Jdv2mEucgAxJ83Udgd1kYrpN8u4dxLfrqTwmia09AlGkHSb-T4cC7AuJTRp56KfvgnwHWw&ved=2ahUKEwiP-a_A6-qJAxXdVTABHce4PbsQ8tMDegQICxAK\n",
      "Lien PDF trouvé : /search?q=SQL+tutorial+filetype:pdf&sca_esv=4f9cd8e0fdf28683&ei=ZMw9Z4-3LN2rwbkPx_H22Qs&start=50&sa=N&sstk=ATObxK5VQD4Zm-u78FO--VUrrsQ4Eai0Jdv2mEucgAxJ83Udgd1kYrpN8u4dxLfrqTwmia09AlGkHSb-T4cC7AuJTRp56KfvgnwHWw&ved=2ahUKEwiP-a_A6-qJAxXdVTABHce4PbsQ8tMDegQICxAM\n",
      "Lien PDF trouvé : /search?q=SQL+tutorial+filetype:pdf&sca_esv=4f9cd8e0fdf28683&ei=ZMw9Z4-3LN2rwbkPx_H22Qs&start=60&sa=N&sstk=ATObxK5VQD4Zm-u78FO--VUrrsQ4Eai0Jdv2mEucgAxJ83Udgd1kYrpN8u4dxLfrqTwmia09AlGkHSb-T4cC7AuJTRp56KfvgnwHWw&ved=2ahUKEwiP-a_A6-qJAxXdVTABHce4PbsQ8tMDegQICxAO\n",
      "Lien PDF trouvé : /search?q=SQL+tutorial+filetype:pdf&sca_esv=4f9cd8e0fdf28683&ei=ZMw9Z4-3LN2rwbkPx_H22Qs&start=70&sa=N&sstk=ATObxK5VQD4Zm-u78FO--VUrrsQ4Eai0Jdv2mEucgAxJ83Udgd1kYrpN8u4dxLfrqTwmia09AlGkHSb-T4cC7AuJTRp56KfvgnwHWw&ved=2ahUKEwiP-a_A6-qJAxXdVTABHce4PbsQ8tMDegQICxAQ\n",
      "Lien PDF trouvé : /search?q=SQL+tutorial+filetype:pdf&sca_esv=4f9cd8e0fdf28683&ei=ZMw9Z4-3LN2rwbkPx_H22Qs&start=80&sa=N&sstk=ATObxK5VQD4Zm-u78FO--VUrrsQ4Eai0Jdv2mEucgAxJ83Udgd1kYrpN8u4dxLfrqTwmia09AlGkHSb-T4cC7AuJTRp56KfvgnwHWw&ved=2ahUKEwiP-a_A6-qJAxXdVTABHce4PbsQ8tMDegQICxAS\n",
      "Lien PDF trouvé : /search?q=SQL+tutorial+filetype:pdf&sca_esv=4f9cd8e0fdf28683&ei=ZMw9Z4-3LN2rwbkPx_H22Qs&start=90&sa=N&sstk=ATObxK5VQD4Zm-u78FO--VUrrsQ4Eai0Jdv2mEucgAxJ83Udgd1kYrpN8u4dxLfrqTwmia09AlGkHSb-T4cC7AuJTRp56KfvgnwHWw&ved=2ahUKEwiP-a_A6-qJAxXdVTABHce4PbsQ8tMDegQICxAU\n",
      "Lien PDF trouvé : /search?q=SQL+tutorial+filetype:pdf&sca_esv=4f9cd8e0fdf28683&ei=ZMw9Z4-3LN2rwbkPx_H22Qs&start=10&sa=N&sstk=ATObxK5VQD4Zm-u78FO--VUrrsQ4Eai0Jdv2mEucgAxJ83Udgd1kYrpN8u4dxLfrqTwmia09AlGkHSb-T4cC7AuJTRp56KfvgnwHWw&ved=2ahUKEwiP-a_A6-qJAxXdVTABHce4PbsQ8NMDegQICxAW\n"
     ]
    }
   ],
   "source": [
    "import requests\n",
    "from bs4 import BeautifulSoup\n",
    "import os\n",
    "# Requête de recherche Google\n",
    "query = \"SQL tutorial filetype:pdf\"  # Mot-clé à chercher\n",
    "url = f\"https://www.google.com/search?q={query.replace(' ', '+')}\"  # Convertir en URL\n",
    "\n",
    "# En-têtes pour éviter les restrictions\n",
    "headers = {\n",
    "    \"User-Agent\": \"Mozilla/5.0 (Windows NT 10.0; Win64; x64) AppleWebKit/537.36 (KHTML, like Gecko) Chrome/96.0.4664.45 Safari/537.36\"\n",
    "}\n",
    "\n",
    "# Envoyer une requête à Google\n",
    "response = requests.get(url, headers=headers)\n",
    "\n",
    "# Vérifier si la requête a réussi\n",
    "if response.status_code == 200:\n",
    "    soup = BeautifulSoup(response.text, \"html.parser\")\n",
    "    \n",
    "    # Extraire les liens des résultats\n",
    "    for link in soup.find_all(\"a\"):\n",
    "        href = link.get(\"href\")\n",
    "        if href and \"pdf\" in href:\n",
    "            print(f\"Lien PDF trouvé : {href}\")\n",
    "else:\n",
    "    print(f\"Erreur : {response.status_code}\")\n"
   ]
  },
  {
   "cell_type": "code",
   "execution_count": 3,
   "id": "c899a8c5",
   "metadata": {},
   "outputs": [
    {
     "name": "stdout",
     "output_type": "stream",
     "text": [
      "PDFs trouvés : 10\n",
      "Téléchargement de : https://www.hcoe.edu.np/uploads/attachments/r96oytechsacgzi4.pdf\n",
      "Échec du téléchargement : https://www.hcoe.edu.np/uploads/attachments/r96oytechsacgzi4.pdf\n",
      "Téléchargement de : https://sql.sh/ressources/cours-sql-sh-.pdf\n",
      "Enregistré sous : pdf_downloads\\cours-sql-sh-.pdf\n",
      "Téléchargement de : https://www.i3s.unice.fr/~edemaria/cours/c4.pdf\n",
      "Enregistré sous : pdf_downloads\\c4.pdf\n",
      "Téléchargement de : https://cdncontribute.geeksforgeeks.org/wp-content/uploads/SQL-Manual.pdf\n",
      "Enregistré sous : pdf_downloads\\SQL-Manual.pdf\n",
      "Téléchargement de : http://www.salihayacoub.com/420Kba/TransacSql.pdf\n",
      "Enregistré sous : pdf_downloads\\TransacSql.pdf\n",
      "Téléchargement de : https://people.inf.elte.hu/kiss/DB/sqltutorial.pdf\n",
      "Enregistré sous : pdf_downloads\\sqltutorial.pdf\n",
      "Téléchargement de : https://www-npa.lip6.fr/~blin/Enseignement_files/SGBD/Tuto0racle-L3.pdf\n",
      "Enregistré sous : pdf_downloads\\Tuto0racle-L3.pdf\n",
      "Téléchargement de : https://www.tutorialspoint.com/sql/sql_tutorial.pdf\n",
      "Enregistré sous : pdf_downloads\\sql_tutorial.pdf\n",
      "Téléchargement de : https://faculty.cc.gatech.edu/~jarulraj/courses/4420-f21/slides/03-advanced-sql.pdf\n",
      "Enregistré sous : pdf_downloads\\03-advanced-sql.pdf\n",
      "Téléchargement de : https://wkhemiri.kau.edu.sa/Files/0053518/Subjects/5324_tutorial.pdf\n",
      "Erreur lors du téléchargement de https://wkhemiri.kau.edu.sa/Files/0053518/Subjects/5324_tutorial.pdf : ('Connection aborted.', RemoteDisconnected('Remote end closed connection without response'))\n"
     ]
    }
   ],
   "source": [
    "\n",
    "\n",
    "# Étape 1 : Définir la requête Google et le dossier de téléchargement\n",
    "query = \"SQL tutorial filetype:pdf\"  # Remplacez par votre mot-clé\n",
    "url = f\"https://www.google.com/search?q={query.replace(' ', '+')}\"\n",
    "output_folder = \"pdf_downloads\"\n",
    "os.makedirs(output_folder, exist_ok=True)  # Crée le dossier si nécessaire\n",
    "\n",
    "# Étape 2 : Envoyer une requête à Google\n",
    "headers = {\n",
    "    \"User-Agent\": \"Mozilla/5.0 (Windows NT 10.0; Win64; x64) AppleWebKit/537.36 (KHTML, like Gecko) Chrome/96.0.4664.45 Safari/537.36\"\n",
    "}\n",
    "response = requests.get(url, headers=headers)\n",
    "\n",
    "# Étape 3 : Vérifier si la requête a réussi\n",
    "if response.status_code == 200:\n",
    "    soup = BeautifulSoup(response.text, \"html.parser\")\n",
    "    pdf_links = []  # Liste pour stocker les liens PDF\n",
    "    \n",
    "    # Étape 4 : Extraire les liens\n",
    "    for link in soup.find_all(\"a\"):\n",
    "        href = link.get(\"href\")\n",
    "        if href and \".pdf\" in href:  # Vérifie que le lien contient \".pdf\"\n",
    "            # Nettoyer le lien si nécessaire\n",
    "            if href.startswith(\"/url?q=\"):\n",
    "                href = href.split(\"/url?q=\")[1].split(\"&\")[0]\n",
    "            pdf_links.append(href)\n",
    "    \n",
    "    print(f\"PDFs trouvés : {len(pdf_links)}\")\n",
    "    \n",
    "    # Étape 5 : Télécharger chaque PDF\n",
    "    for pdf_url in pdf_links:\n",
    "        try:\n",
    "            print(f\"Téléchargement de : {pdf_url}\")\n",
    "            pdf_response = requests.get(pdf_url, stream=True)\n",
    "            \n",
    "            if pdf_response.status_code == 200:\n",
    "                # Nom du fichier PDF\n",
    "                pdf_name = pdf_url.split(\"/\")[-1].split(\"?\")[0]  # Extrait le nom du fichier\n",
    "                pdf_path = os.path.join(output_folder, pdf_name)\n",
    "                \n",
    "                # Enregistrement du fichier\n",
    "                with open(pdf_path, \"wb\") as pdf_file:\n",
    "                    for chunk in pdf_response.iter_content(chunk_size=1024):\n",
    "                        pdf_file.write(chunk)\n",
    "                print(f\"Enregistré sous : {pdf_path}\")\n",
    "            else:\n",
    "                print(f\"Échec du téléchargement : {pdf_url}\")\n",
    "        except Exception as e:\n",
    "            print(f\"Erreur lors du téléchargement de {pdf_url} : {e}\")\n",
    "else:\n",
    "    print(f\"Erreur lors de l'accès à Google ({response.status_code})\")\n"
   ]
  },
  {
   "cell_type": "markdown",
   "id": "71b93506",
   "metadata": {},
   "source": [
    "# Scraper et télécharger les PDF de Google Scholar"
   ]
  },
  {
   "cell_type": "code",
   "execution_count": 4,
   "id": "1b962e3d",
   "metadata": {},
   "outputs": [
    {
     "name": "stdout",
     "output_type": "stream",
     "text": [
      "20 liens PDF trouvés.\n",
      "Téléchargement de : https://asterixdb.incubator.apache.org/files/SQL_Book.pdf\n",
      "Enregistré sous : scholar_pdfs\\SQL_Book.pdf\n",
      "Téléchargement de : https://asterixdb.incubator.apache.org/files/SQL_Book.pdf\n",
      "Enregistré sous : scholar_pdfs\\SQL_Book.pdf\n",
      "Téléchargement de : http://www.brescianet.com/appunti/db/OracleSQLTutorial.pdf\n",
      "Enregistré sous : scholar_pdfs\\OracleSQLTutorial.pdf\n",
      "Téléchargement de : http://www.brescianet.com/appunti/db/OracleSQLTutorial.pdf\n",
      "Enregistré sous : scholar_pdfs\\OracleSQLTutorial.pdf\n",
      "Téléchargement de : https://www.academia.edu/download/51556543/choirul-SQL.pdf\n",
      "Échec du téléchargement : https://www.academia.edu/download/51556543/choirul-SQL.pdf\n",
      "Téléchargement de : https://www.academia.edu/download/51556543/choirul-SQL.pdf\n",
      "Échec du téléchargement : https://www.academia.edu/download/51556543/choirul-SQL.pdf\n",
      "Téléchargement de : https://www.academia.edu/download/40932699/LCTASQL.pdf\n",
      "Échec du téléchargement : https://www.academia.edu/download/40932699/LCTASQL.pdf\n",
      "Téléchargement de : https://www.academia.edu/download/40932699/LCTASQL.pdf\n",
      "Échec du téléchargement : https://www.academia.edu/download/40932699/LCTASQL.pdf\n",
      "Téléchargement de : https://www.researchgate.net/profile/Carlos-Jaimez-Gonzalez/publication/322335972_An_Interactive_Online_Training_Course_for_SQL_Beginners/links/5bd226a0a6fdcc3a8da64466/An-Interactive-Online-Training-Course-for-SQL-Beginners.pdf?_sg%5B0%5D=started_experiment_milestone&origin=journalDetail\n",
      "Échec du téléchargement : https://www.researchgate.net/profile/Carlos-Jaimez-Gonzalez/publication/322335972_An_Interactive_Online_Training_Course_for_SQL_Beginners/links/5bd226a0a6fdcc3a8da64466/An-Interactive-Online-Training-Course-for-SQL-Beginners.pdf?_sg%5B0%5D=started_experiment_milestone&origin=journalDetail\n",
      "Téléchargement de : https://www.researchgate.net/profile/Carlos-Jaimez-Gonzalez/publication/322335972_An_Interactive_Online_Training_Course_for_SQL_Beginners/links/5bd226a0a6fdcc3a8da64466/An-Interactive-Online-Training-Course-for-SQL-Beginners.pdf?_sg%5B0%5D=started_experiment_milestone&origin=journalDetail\n",
      "Échec du téléchargement : https://www.researchgate.net/profile/Carlos-Jaimez-Gonzalez/publication/322335972_An_Interactive_Online_Training_Course_for_SQL_Beginners/links/5bd226a0a6fdcc3a8da64466/An-Interactive-Online-Training-Course-for-SQL-Beginners.pdf?_sg%5B0%5D=started_experiment_milestone&origin=journalDetail\n",
      "Téléchargement de : https://www.academia.edu/download/51024650/doc28.com-9c3ed4b5.pdf\n",
      "Échec du téléchargement : https://www.academia.edu/download/51024650/doc28.com-9c3ed4b5.pdf\n",
      "Téléchargement de : https://www.academia.edu/download/51024650/doc28.com-9c3ed4b5.pdf\n",
      "Échec du téléchargement : https://www.academia.edu/download/51024650/doc28.com-9c3ed4b5.pdf\n",
      "Téléchargement de : https://www.academia.edu/download/38719969/manual-tutorial-sql.pdf\n",
      "Échec du téléchargement : https://www.academia.edu/download/38719969/manual-tutorial-sql.pdf\n",
      "Téléchargement de : https://www.academia.edu/download/38719969/manual-tutorial-sql.pdf\n",
      "Échec du téléchargement : https://www.academia.edu/download/38719969/manual-tutorial-sql.pdf\n",
      "Téléchargement de : https://sab-astro.org.br/wp-content/uploads/2024/05/RaphaelGomes.pdf\n",
      "Enregistré sous : scholar_pdfs\\RaphaelGomes.pdf\n",
      "Téléchargement de : https://sab-astro.org.br/wp-content/uploads/2024/05/RaphaelGomes.pdf\n",
      "Enregistré sous : scholar_pdfs\\RaphaelGomes.pdf\n",
      "Téléchargement de : https://www.academia.edu/download/52367762/haniah.pdf\n",
      "Échec du téléchargement : https://www.academia.edu/download/52367762/haniah.pdf\n",
      "Téléchargement de : https://www.academia.edu/download/52367762/haniah.pdf\n",
      "Échec du téléchargement : https://www.academia.edu/download/52367762/haniah.pdf\n",
      "Téléchargement de : https://core.ac.uk/download/pdf/268112961.pdf\n",
      "Enregistré sous : scholar_pdfs\\268112961.pdf\n",
      "Téléchargement de : https://core.ac.uk/download/pdf/268112961.pdf\n",
      "Enregistré sous : scholar_pdfs\\268112961.pdf\n"
     ]
    }
   ],
   "source": [
    "import os\n",
    "import requests\n",
    "from bs4 import BeautifulSoup\n",
    "import time\n",
    "\n",
    "# URL de recherche Google Scholar\n",
    "query = \"SQL tutorial filetype:pdf\"\n",
    "scholar_url = f\"https://scholar.google.com/scholar?q={query.replace(' ', '+')}\"\n",
    "headers = {\n",
    "    \"User-Agent\": \"Mozilla/5.0 (Windows NT 10.0; Win64; x64) AppleWebKit/537.36 (KHTML, like Gecko) Chrome/96.0.4664.45 Safari/537.36\"\n",
    "}\n",
    "\n",
    "# Dossier où les PDF seront téléchargés\n",
    "output_folder = \"scholar_pdfs\"\n",
    "os.makedirs(output_folder, exist_ok=True)\n",
    "\n",
    "# Étape 1 : Envoyer une requête à Google Scholar\n",
    "response = requests.get(scholar_url, headers=headers)\n",
    "\n",
    "if response.status_code == 200:\n",
    "    soup = BeautifulSoup(response.text, \"html.parser\")\n",
    "    pdf_links = []\n",
    "\n",
    "    # Étape 2 : Extraire les liens PDF\n",
    "    for link in soup.find_all(\"a\"):\n",
    "        href = link.get(\"href\")\n",
    "        if href and \".pdf\" in href:  # Vérifie si le lien est un PDF\n",
    "            pdf_links.append(href)\n",
    "\n",
    "    print(f\"{len(pdf_links)} liens PDF trouvés.\")\n",
    "\n",
    "    # Étape 3 : Télécharger les PDF\n",
    "    for pdf_url in pdf_links:\n",
    "        try:\n",
    "            print(f\"Téléchargement de : {pdf_url}\")\n",
    "            pdf_response = requests.get(pdf_url, stream=True)\n",
    "            \n",
    "            if pdf_response.status_code == 200:\n",
    "                # Nom du fichier PDF\n",
    "                pdf_name = pdf_url.split(\"/\")[-1].split(\"?\")[0]\n",
    "                pdf_path = os.path.join(output_folder, pdf_name)\n",
    "                \n",
    "                # Enregistrement du fichier\n",
    "                with open(pdf_path, \"wb\") as pdf_file:\n",
    "                    for chunk in pdf_response.iter_content(chunk_size=1024):\n",
    "                        pdf_file.write(chunk)\n",
    "                print(f\"Enregistré sous : {pdf_path}\")\n",
    "            else:\n",
    "                print(f\"Échec du téléchargement : {pdf_url}\")\n",
    "        except Exception as e:\n",
    "            print(f\"Erreur lors du téléchargement de {pdf_url} : {e}\")\n",
    "\n",
    "else:\n",
    "    print(f\"Erreur : Impossible d'accéder à Google Scholar (Code {response.status_code})\")\n"
   ]
  }
 ],
 "metadata": {
  "kernelspec": {
   "display_name": "Python 3 (ipykernel)",
   "language": "python",
   "name": "python3"
  },
  "language_info": {
   "codemirror_mode": {
    "name": "ipython",
    "version": 3
   },
   "file_extension": ".py",
   "mimetype": "text/x-python",
   "name": "python",
   "nbconvert_exporter": "python",
   "pygments_lexer": "ipython3",
   "version": "3.11.5"
  }
 },
 "nbformat": 4,
 "nbformat_minor": 5
}
